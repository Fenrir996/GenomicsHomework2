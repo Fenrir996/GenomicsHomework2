{
 "cells": [
  {
   "cell_type": "code",
   "execution_count": 4,
   "metadata": {},
   "outputs": [
    {
     "name": "stdout",
     "output_type": "stream",
     "text": [
      "Collecting pysam\n",
      "  Downloading pysam-0.16.0.1-cp38-cp38-manylinux1_x86_64.whl (10.2 MB)\n",
      "\u001b[K     |████████████████████████████████| 10.2 MB 33.3 MB/s eta 0:00:01\n",
      "\u001b[?25hInstalling collected packages: pysam\n",
      "Successfully installed pysam-0.16.0.1\n",
      "Note: you may need to restart the kernel to use updated packages.\n"
     ]
    }
   ],
   "source": [
    "pip install pysam"
   ]
  },
  {
   "cell_type": "code",
   "execution_count": 3,
   "metadata": {},
   "outputs": [
    {
     "name": "stdout",
     "output_type": "stream",
     "text": [
      "First aligned segment properties: \n",
      "Query name : C0HVYACXX120402:7:1207:5722:57044\n",
      "Query sequence : TTTTCAAACAGTATCTATGCCTGCCAAATGTGAACATATAAAAAAAAACCAGAATGTGCCATTCTGATTTAAACTG\n",
      "Flag : 1187\n",
      "Reference ID : 20\n",
      "Reference start : 9483248\n",
      "Mapping quality : 27\n",
      "Cigar : [(0, 76)]\n",
      "Next reference ID : 20\n",
      "Next reference start : 9483381\n",
      "Template length : 209\n",
      "Query qualities : array('B', [28, 28, 27, 29, 31, 30, 31, 31, 29, 31, 35, 30, 29, 31, 34, 30, 29, 23, 41, 32, 20, 30, 29, 34, 34, 29, 30, 31, 30, 30, 30, 33, 33, 26, 39, 12, 25, 19, 32, 30, 35, 28, 35, 33, 23, 33, 35, 36, 30, 38, 33, 41, 34, 35, 31, 33, 23, 30, 30, 36, 27, 32, 29, 34, 35, 41, 33, 31, 33, 29, 32, 32, 31, 31, 31, 34])\n",
      "Tags : [('XA', 'GL000217.1,-110754,76M,1;'), ('BD', 'NNNNNNNNNNNNNNNNNNNNNNNNNNNNNNNNNNNNNNNNNNNNNNNNNNNNNNNNNNNNNNNNNNNNNNNNNNNN'), ('MD', '76'), ('RG', '1'), ('BI', 'NNNNNNNNNNNNNNNNNNNNNNNNNNNNNNNNNNNNNNNNNNNNNNNNNNNNNNNNNNNNNNNNNNNNNNNNNNNN'), ('NM', 0), ('MQ', 27), ('AS', 76), ('XS', 71)]\n",
      "First flag: 1187\n",
      "Fifth flag: 99\n",
      "Tenth flag: 1123\n",
      "Number of unmapped reads in file: 17765\n",
      "Number of reads in file: 2921629\n",
      "Number of reads with mapping quality 0 in file: 126628\n",
      "Average mapping quality for all the reads in file: 55.91379158681681\n",
      "Average mapping quality if reads with 0 map quality are filtered out from file: 58.446975510921106\n"
     ]
    }
   ],
   "source": [
    "import pysam \n",
    "\n",
    "first_read = None\n",
    "fifth_read = None\n",
    "tenth_read = None\n",
    "unmapped_reads = 0\n",
    "total_reads = 0\n",
    "read_mapping_quality_zero = 0\n",
    "total_mapping_quality = 0\n",
    "avarage_mapping_quality = 0\n",
    "average_mapping_quality_without_zero = 0\n",
    "file = pysam.AlignmentFile(\"/sbgenomics/project-files/merged-tumor.bam\", \"rb\")\n",
    "\n",
    "for read in file.fetch(until_eof=True):\n",
    "    \n",
    "    if read.is_unmapped: \n",
    "        unmapped_reads += 1\n",
    "\n",
    "    total_reads += 1\n",
    "    \n",
    "    if read.mapping_quality == 0:\n",
    "        read_mapping_quality_zero += 1\n",
    "\n",
    "    total_mapping_quality += read.mapping_quality\n",
    "    \n",
    "    if total_reads == 1: \n",
    "        first_read = read\n",
    "\n",
    "    if total_reads == 5:\n",
    "        fifth_read = read\n",
    "\n",
    "    if total_reads == 10:\n",
    "        tenth_read = read\n",
    "\n",
    "file.close()\n",
    "\n",
    "avarage_mapping_quality = total_mapping_quality / total_reads\n",
    "average_mapping_quality_without_zero = total_mapping_quality / (total_reads - read_mapping_quality_zero)\n",
    "\n",
    "print(\"First aligned segment properties: \")\n",
    "print(\"Query name : \" + str(first_read.query_name))\n",
    "print(\"Query sequence : \" + str(first_read.query_sequence))\n",
    "print(\"Flag : \" + str(first_read.flag))\n",
    "print(\"Reference ID : \" + str(first_read.reference_id))\n",
    "print(\"Reference start : \" + str(first_read.reference_start))\n",
    "print(\"Mapping quality : \" + str(first_read.mapping_quality))\n",
    "print(\"Cigar : \" + str(first_read.cigar))\n",
    "print(\"Next reference ID : \" + str(first_read.next_reference_id))\n",
    "print(\"Next reference start : \" + str(first_read.next_reference_start))\n",
    "print(\"Template length : \" + str(first_read.template_length))\n",
    "print(\"Query qualities : \" + str(first_read.query_qualities))\n",
    "print(\"Tags : \" + str(first_read.tags))\n",
    "\n",
    "\n",
    "print(\"First flag: \" + str(first_read.flag))\n",
    "print(\"Fifth flag: \" + str(fifth_read.flag))\n",
    "print(\"Tenth flag: \" + str(tenth_read.flag))\n",
    "\n",
    "\n",
    "print(\"Number of unmapped reads in file: \" + str(unmapped_reads))\n",
    "print(\"Number of reads in file: \" + str(total_reads))\n",
    "print(\"Number of reads with mapping quality 0 in file: \" + str(read_mapping_quality_zero))\n",
    "print(\"Average mapping quality for all the reads in file: \" + str(avarage_mapping_quality))\n",
    "print(\"Average mapping quality if reads with 0 map quality are filtered out from file: \" + str(average_mapping_quality_without_zero))\n"
   ]
  },
  {
   "cell_type": "code",
   "execution_count": null,
   "metadata": {},
   "outputs": [],
   "source": [
    "In case of problems, this was printed\n",
    "First aligned segment properties: \n",
    "Query name : C0HVYACXX120402:7:1207:5722:57044\n",
    "Query sequence : TTTTCAAACAGTATCTATGCCTGCCAAATGTGAACATATAAAAAAAAACCAGAATGTGCCATTCTGATTTAAACTG\n",
    "Flag : 1187\n",
    "Reference ID : 20\n",
    "Reference start : 9483248\n",
    "Mapping quality : 27\n",
    "Cigar : [(0, 76)]\n",
    "Next reference ID : 20\n",
    "Next reference start : 9483381\n",
    "Template length : 209\n",
    "Query qualities : array('B', [28, 28, 27, 29, 31, 30, 31, 31, 29, 31, 35, 30, 29, 31, 34, 30, 29, 23, 41, 32, 20, 30, 29, 34, 34, 29, 30, 31, 30, 30, 30, 33, 33, 26, 39, 12, 25, 19, 32, 30, 35, 28, 35, 33, 23, 33, 35, 36, 30, 38, 33, 41, 34, 35, 31, 33, 23, 30, 30, 36, 27, 32, 29, 34, 35, 41, 33, 31, 33, 29, 32, 32, 31, 31, 31, 34])\n",
    "Tags : [('XA', 'GL000217.1,-110754,76M,1;'), ('BD', 'NNNNNNNNNNNNNNNNNNNNNNNNNNNNNNNNNNNNNNNNNNNNNNNNNNNNNNNNNNNNNNNNNNNNNNNNNNNN'), ('MD', '76'), ('RG', '1'), ('BI', 'NNNNNNNNNNNNNNNNNNNNNNNNNNNNNNNNNNNNNNNNNNNNNNNNNNNNNNNNNNNNNNNNNNNNNNNNNNNN'), ('NM', 0), ('MQ', 27), ('AS', 76), ('XS', 71)]\n",
    "First flag: 1187\n",
    "Fifth flag: 99\n",
    "Tenth flag: 1123\n",
    "Number of unmapped reads in file: 17765\n",
    "Number of reads in file: 2921629\n",
    "Number of reads with mapping quality 0 in file: 126628\n",
    "Average mapping quality for all the reads in file: 55.91379158681681\n",
    "Average mapping quality if reads with 0 map quality are filtered out from file: 58.446975510921106"
   ]
  },
  {
   "cell_type": "code",
   "execution_count": null,
   "metadata": {},
   "outputs": [],
   "source": []
  }
 ],
 "metadata": {
  "kernelspec": {
   "display_name": "Python 3",
   "language": "python",
   "name": "python3"
  },
  "language_info": {
   "codemirror_mode": {
    "name": "ipython",
    "version": 3
   },
   "file_extension": ".py",
   "mimetype": "text/x-python",
   "name": "python",
   "nbconvert_exporter": "python",
   "pygments_lexer": "ipython3",
   "version": "3.8.3"
  }
 },
 "nbformat": 4,
 "nbformat_minor": 4
}
